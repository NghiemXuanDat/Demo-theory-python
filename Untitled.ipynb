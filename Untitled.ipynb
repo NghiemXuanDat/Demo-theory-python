{
 "cells": [
  {
   "cell_type": "markdown",
   "id": "b18b2697-858a-48a4-a140-5de366d33193",
   "metadata": {},
   "source": [
    "## Bài 1\n",
    "Viết chương trình nhập vào 2 số nguyên `num1` và `num2`. In ra tích của 2 số nguyên đó. "
   ]
  },
  {
   "cell_type": "code",
   "execution_count": 3,
   "id": "3f4784b6-0e18-4144-9057-21f5f3f57fef",
   "metadata": {},
   "outputs": [
    {
     "name": "stdin",
     "output_type": "stream",
     "text": [
      "Please input number 1:  2\n",
      "Please input number 2:  4\n"
     ]
    },
    {
     "name": "stdout",
     "output_type": "stream",
     "text": [
      "8\n",
      "2 * 4 = 8\n"
     ]
    }
   ],
   "source": [
    "num1 = int(input(\"Please input number 1: \"))\n",
    "num2 = int(input(\"Please input number 2: \"))\n",
    "num = num1 * num2\n",
    "print(num)\n",
    "print(f\"{num1} * {num2} = {num}\") # Hien thi phep tinh toan"
   ]
  },
  {
   "cell_type": "markdown",
   "id": "bbb37796-e8fd-4b0f-ac73-e7f81ebe2d6e",
   "metadata": {},
   "source": [
    "## Bài 2 \n",
    "Nhập vào ba biến `diem_toan`, `diem_ly`, `diem_hoa` và in ra điểm trung bình của ba môn học trên."
   ]
  },
  {
   "cell_type": "code",
   "execution_count": 4,
   "id": "9c549501-fb08-48b8-8f41-22442b00384c",
   "metadata": {
    "scrolled": true
   },
   "outputs": [
    {
     "name": "stdin",
     "output_type": "stream",
     "text": [
      "Please input math score:  3\n",
      "Please input physics score:  4\n",
      "Please input chemistry score:  5\n"
     ]
    },
    {
     "name": "stdout",
     "output_type": "stream",
     "text": [
      "The average score is 4.0\n"
     ]
    }
   ],
   "source": [
    "math = int(input(\"Please input math score: \"))\n",
    "physics = int(input(\"Please input physics score: \"))\n",
    "chemistry = int(input(\"Please input chemistry score: \"))\n",
    "average = (math + physics + chemistry)/3\n",
    "print(f\"The average score is {average}\")"
   ]
  },
  {
   "cell_type": "markdown",
   "id": "7d39db10-47d5-401f-87cd-6684b1909fef",
   "metadata": {},
   "source": [
    "## Bài 3\n",
    "Nhập vào vận tốc của đoàn tàu theo đơn vị km/h.\n",
    "\n",
    "a. Hỏi trung bình mỗi phút đoàn tàu đi được bao nhiêu mét?\n",
    "\n",
    "b. Sau 1 giờ 12 phút đoàn tàu đi được bao nhiêu km?\n"
   ]
  },
  {
   "cell_type": "code",
   "execution_count": 8,
   "id": "d7534ffe-54c9-4dac-b772-143bd4199290",
   "metadata": {},
   "outputs": [
    {
     "name": "stdin",
     "output_type": "stream",
     "text": [
      "Please input speed km/h:  33\n"
     ]
    },
    {
     "name": "stdout",
     "output_type": "stream",
     "text": [
      "550.0\n",
      "39.6\n"
     ]
    }
   ],
   "source": [
    "speed_kmh = float(input(\"Please input speed km/h: \"))\n",
    "dpm = speed_kmh * (1000/60) # dpm = distance per minute \n",
    "distance = (72 * speed_kmh * (1000/60))/1000 # distance of 1h12p \n",
    "print(dpm)\n",
    "print(distance)"
   ]
  }
 ],
 "metadata": {
  "kernelspec": {
   "display_name": "Python 3 (ipykernel)",
   "language": "python",
   "name": "python3"
  },
  "language_info": {
   "codemirror_mode": {
    "name": "ipython",
    "version": 3
   },
   "file_extension": ".py",
   "mimetype": "text/x-python",
   "name": "python",
   "nbconvert_exporter": "python",
   "pygments_lexer": "ipython3",
   "version": "3.12.3"
  }
 },
 "nbformat": 4,
 "nbformat_minor": 5
}
